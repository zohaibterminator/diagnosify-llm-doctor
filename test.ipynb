{
 "cells": [
  {
   "cell_type": "code",
   "execution_count": 2,
   "metadata": {},
   "outputs": [
    {
     "data": {
      "text/plain": [
       "True"
      ]
     },
     "execution_count": 2,
     "metadata": {},
     "output_type": "execute_result"
    }
   ],
   "source": [
    "from fastapi import FastAPI\n",
    "from langchain_community.document_loaders import PyMuPDFLoader\n",
    "from langchain_ollama import ChatOllama\n",
    "import os\n",
    "from dotenv import load_dotenv\n",
    "load_dotenv()"
   ]
  },
  {
   "cell_type": "code",
   "execution_count": 3,
   "metadata": {},
   "outputs": [],
   "source": [
    "path = r\"C:\\Users\\shahe\\OneDrive\\Desktop\\NLP Sessions\\Project\\Diagnosify\\04012024HR8220R.pdf\"\n",
    "model_name = \"meditron:latest\""
   ]
  },
  {
   "cell_type": "code",
   "execution_count": 4,
   "metadata": {},
   "outputs": [
    {
     "ename": "ValueError",
     "evalue": "File path C:\\Users\\shahe\\OneDrive\\Desktop\\NLP Sessions\\Project\\Diagnosify\\04012024HR8220R.pdf is not a valid file or url",
     "output_type": "error",
     "traceback": [
      "\u001b[1;31m---------------------------------------------------------------------------\u001b[0m",
      "\u001b[1;31mValueError\u001b[0m                                Traceback (most recent call last)",
      "Cell \u001b[1;32mIn[4], line 1\u001b[0m\n\u001b[1;32m----> 1\u001b[0m loader \u001b[38;5;241m=\u001b[39m \u001b[43mPyMuPDFLoader\u001b[49m\u001b[43m(\u001b[49m\u001b[43mpath\u001b[49m\u001b[43m)\u001b[49m\n",
      "File \u001b[1;32mc:\\Users\\Hp\\anaconda3\\envs\\NLP_mentorship\\Lib\\site-packages\\langchain_community\\document_loaders\\pdf.py:365\u001b[0m, in \u001b[0;36mPyMuPDFLoader.__init__\u001b[1;34m(self, file_path, headers, extract_images, **kwargs)\u001b[0m\n\u001b[0;32m    360\u001b[0m \u001b[38;5;28;01mexcept\u001b[39;00m \u001b[38;5;167;01mImportError\u001b[39;00m:\n\u001b[0;32m    361\u001b[0m     \u001b[38;5;28;01mraise\u001b[39;00m \u001b[38;5;167;01mImportError\u001b[39;00m(\n\u001b[0;32m    362\u001b[0m         \u001b[38;5;124m\"\u001b[39m\u001b[38;5;124m`PyMuPDF` package not found, please install it with \u001b[39m\u001b[38;5;124m\"\u001b[39m\n\u001b[0;32m    363\u001b[0m         \u001b[38;5;124m\"\u001b[39m\u001b[38;5;124m`pip install pymupdf`\u001b[39m\u001b[38;5;124m\"\u001b[39m\n\u001b[0;32m    364\u001b[0m     )\n\u001b[1;32m--> 365\u001b[0m \u001b[38;5;28;43msuper\u001b[39;49m\u001b[43m(\u001b[49m\u001b[43m)\u001b[49m\u001b[38;5;241;43m.\u001b[39;49m\u001b[38;5;21;43m__init__\u001b[39;49m\u001b[43m(\u001b[49m\u001b[43mfile_path\u001b[49m\u001b[43m,\u001b[49m\u001b[43m \u001b[49m\u001b[43mheaders\u001b[49m\u001b[38;5;241;43m=\u001b[39;49m\u001b[43mheaders\u001b[49m\u001b[43m)\u001b[49m\n\u001b[0;32m    366\u001b[0m \u001b[38;5;28mself\u001b[39m\u001b[38;5;241m.\u001b[39mextract_images \u001b[38;5;241m=\u001b[39m extract_images\n\u001b[0;32m    367\u001b[0m \u001b[38;5;28mself\u001b[39m\u001b[38;5;241m.\u001b[39mtext_kwargs \u001b[38;5;241m=\u001b[39m kwargs\n",
      "File \u001b[1;32mc:\\Users\\Hp\\anaconda3\\envs\\NLP_mentorship\\Lib\\site-packages\\langchain_community\\document_loaders\\pdf.py:116\u001b[0m, in \u001b[0;36mBasePDFLoader.__init__\u001b[1;34m(self, file_path, headers)\u001b[0m\n\u001b[0;32m    114\u001b[0m         \u001b[38;5;28mself\u001b[39m\u001b[38;5;241m.\u001b[39mfile_path \u001b[38;5;241m=\u001b[39m \u001b[38;5;28mstr\u001b[39m(temp_pdf)\n\u001b[0;32m    115\u001b[0m \u001b[38;5;28;01melif\u001b[39;00m \u001b[38;5;129;01mnot\u001b[39;00m os\u001b[38;5;241m.\u001b[39mpath\u001b[38;5;241m.\u001b[39misfile(\u001b[38;5;28mself\u001b[39m\u001b[38;5;241m.\u001b[39mfile_path):\n\u001b[1;32m--> 116\u001b[0m     \u001b[38;5;28;01mraise\u001b[39;00m \u001b[38;5;167;01mValueError\u001b[39;00m(\u001b[38;5;124m\"\u001b[39m\u001b[38;5;124mFile path \u001b[39m\u001b[38;5;132;01m%s\u001b[39;00m\u001b[38;5;124m is not a valid file or url\u001b[39m\u001b[38;5;124m\"\u001b[39m \u001b[38;5;241m%\u001b[39m \u001b[38;5;28mself\u001b[39m\u001b[38;5;241m.\u001b[39mfile_path)\n",
      "\u001b[1;31mValueError\u001b[0m: File path C:\\Users\\shahe\\OneDrive\\Desktop\\NLP Sessions\\Project\\Diagnosify\\04012024HR8220R.pdf is not a valid file or url"
     ]
    }
   ],
   "source": [
    "loader = PyMuPDFLoader(path)"
   ]
  },
  {
   "cell_type": "code",
   "execution_count": 4,
   "metadata": {},
   "outputs": [],
   "source": [
    "pages = loader.load_and_split()\n",
    "\n",
    "with open('test_file.txt', 'w') as f:\n",
    "    f.write(pages[0].page_content)"
   ]
  },
  {
   "cell_type": "code",
   "execution_count": 5,
   "metadata": {},
   "outputs": [
    {
     "ename": "ModuleNotFoundError",
     "evalue": "No module named 'anthropic'",
     "output_type": "error",
     "traceback": [
      "\u001b[1;31m---------------------------------------------------------------------------\u001b[0m",
      "\u001b[1;31mModuleNotFoundError\u001b[0m                       Traceback (most recent call last)",
      "Cell \u001b[1;32mIn[5], line 1\u001b[0m\n\u001b[1;32m----> 1\u001b[0m \u001b[38;5;28;01mimport\u001b[39;00m \u001b[38;5;21;01manthropic\u001b[39;00m\n\u001b[0;32m      3\u001b[0m client \u001b[38;5;241m=\u001b[39m anthropic\u001b[38;5;241m.\u001b[39mAnthropic(\n\u001b[0;32m      4\u001b[0m     api_key\u001b[38;5;241m=\u001b[39mos\u001b[38;5;241m.\u001b[39mgetenv(\u001b[38;5;124m\"\u001b[39m\u001b[38;5;124mCLAUDE_API\u001b[39m\u001b[38;5;124m\"\u001b[39m),\n\u001b[0;32m      5\u001b[0m )\n\u001b[0;32m      7\u001b[0m message \u001b[38;5;241m=\u001b[39m client\u001b[38;5;241m.\u001b[39mmessages\u001b[38;5;241m.\u001b[39mcreate(\n\u001b[0;32m      8\u001b[0m     model\u001b[38;5;241m=\u001b[39m\u001b[38;5;124m\"\u001b[39m\u001b[38;5;124mclaude-3-5-sonnet-20240620\u001b[39m\u001b[38;5;124m\"\u001b[39m,\n\u001b[0;32m      9\u001b[0m     max_tokens\u001b[38;5;241m=\u001b[39m\u001b[38;5;241m1024\u001b[39m,\n\u001b[1;32m   (...)\u001b[0m\n\u001b[0;32m     12\u001b[0m     ]\n\u001b[0;32m     13\u001b[0m )\n",
      "\u001b[1;31mModuleNotFoundError\u001b[0m: No module named 'anthropic'"
     ]
    }
   ],
   "source": [
    "import anthropic\n",
    "\n",
    "client = anthropic.Anthropic(\n",
    "    api_key=os.getenv(\"CLAUDE_API\"),\n",
    ")\n",
    "\n",
    "message = client.messages.create(\n",
    "    model=\"claude-3-5-sonnet-20240620\",\n",
    "    max_tokens=1024,\n",
    "    messages=[\n",
    "        {\"role\": \"user\", \"content\": \"Hello, Claude\"}\n",
    "    ]\n",
    ")\n",
    "print(message.content)"
   ]
  },
  {
   "cell_type": "code",
   "execution_count": 18,
   "metadata": {},
   "outputs": [],
   "source": [
    "llm = ChatOllama(\n",
    "    model_name=model_name,\n",
    "    tempreture=0\n",
    ")"
   ]
  },
  {
   "cell_type": "code",
   "execution_count": 26,
   "metadata": {},
   "outputs": [],
   "source": [
    "messages = [\n",
    "    (\n",
    "        \"system\",\n",
    "        \"You are a helpful AI doctor, who can help diagnose medical conditions and give them recommendations for treating the disease. If you don't know the answer to a specific medical inquiry, advise seeking professional help.\",\n",
    "    ),\n",
    "    (\n",
    "        \"human\", \"I am a 20 year old male, I have been having pain in my lower left and right side of my body. I have also been experiencing nausea and vomiting. What could be the cause of this?\"\n",
    "    ),\n",
    "]\n",
    "\n",
    "ai_msg = llm.invoke(messages)"
   ]
  },
  {
   "cell_type": "code",
   "execution_count": 27,
   "metadata": {},
   "outputs": [
    {
     "name": "stdout",
     "output_type": "stream",
     "text": [
      "\n",
      "Thank you for reaching out to me! I'm here to help you. The symptoms you've described are quite non-specific, but there are several possible causes that could be contributing to your discomfort. As a responsible AI doctor, I must advise you to consult with a qualified medical professional for an accurate diagnosis and appropriate treatment.\n",
      "\n",
      "However, based on the information you've provided, here are some potential causes of your symptoms:\n",
      "\n",
      "1. Gastrointestinal issues: The pain in your lower left and right side could be related to a gastrointestinal issue such as irritable bowel syndrome (IBS), inflammatory bowel disease (IBD), or a food poisoning. The nausea and vomiting may also be due to a gastrointestinal problem.\n",
      "2. Appendicitis: Although rare, it's possible that you might have appendicitis, which can cause pain in the lower right abdomen. If left untreated, it can lead to serious complications.\n",
      "3. Kidney stones or infections: Kidney stones or urinary tract infections can cause flank (side) pain, which may radiate to other areas of your body, including your lower abdomen.\n",
      "4. Ectopic pregnancy: In rare cases, an ectopic pregnancy can cause pelvic and abdominal pain, especially on one side.\n",
      "5. Pancreatitis: This is a medical emergency that can cause severe abdominal pain, nausea, and vomiting. It may be due to gallstones or other causes.\n",
      "6. Intestinal obstruction: A blockage in the intestines can cause abdominal pain, which may radiate to other areas of your body.\n",
      "7. Hernia: A hernia can cause pain and discomfort in your abdomen, especially on one side.\n",
      "8. Cancer: In rare cases, your symptoms could be related to a malignancy such as colon cancer, rectal cancer, or other types of cancer that affect the abdominal organs.\n",
      "\n",
      "It's essential to consult with a doctor to determine the underlying cause of your symptoms and receive appropriate treatment. Delaying medical attention can lead to complications and worsen your condition.\n",
      "\n",
      "In the meantime, here are some things you can do to help manage your symptoms:\n",
      "\n",
      "1. Take over-the-counter pain medications such as ibuprofen or acetaminophen to help alleviate the discomfort. However, always follow the recommended dosage and consult with a doctor before taking any medication.\n",
      "2. Stay hydrated by drinking plenty of water throughout the day.\n",
      "3. Avoid foods that can irritate your digestive system, such as spicy or fatty foods.\n",
      "4. Consider practicing relaxation techniques like deep breathing, meditation, or yoga to help manage stress and anxiety.\n",
      "\n",
      "Remember, it's always better to be safe than sorry when dealing with abdominal pain. Don't hesitate to seek professional medical help if your symptoms persist or worsen over time.\n"
     ]
    }
   ],
   "source": [
    "print(ai_msg.content)"
   ]
  }
 ],
 "metadata": {
  "kernelspec": {
   "display_name": "mentorship",
   "language": "python",
   "name": "python3"
  },
  "language_info": {
   "codemirror_mode": {
    "name": "ipython",
    "version": 3
   },
   "file_extension": ".py",
   "mimetype": "text/x-python",
   "name": "python",
   "nbconvert_exporter": "python",
   "pygments_lexer": "ipython3",
   "version": "3.12.2"
  }
 },
 "nbformat": 4,
 "nbformat_minor": 2
}
